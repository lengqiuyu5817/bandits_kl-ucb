{
 "cells": [
  {
   "cell_type": "code",
   "execution_count": 28,
   "metadata": {},
   "outputs": [],
   "source": [
    "import time\n",
    "import numpy as np\n",
    "import math\n",
    "import matplotlib.pyplot as plt\n",
    "import pickle\n",
    "%matplotlib inline"
   ]
  },
  {
   "cell_type": "code",
   "execution_count": 29,
   "metadata": {},
   "outputs": [
    {
     "name": "stdout",
     "output_type": "stream",
     "text": [
      "The autoreload extension is already loaded. To reload it, use:\n",
      "  %reload_ext autoreload\n"
     ]
    }
   ],
   "source": [
    "%load_ext autoreload\n",
    "%autoreload 2\n",
    "import kl_ucb_policy"
   ]
  },
  {
   "cell_type": "code",
   "execution_count": 37,
   "metadata": {},
   "outputs": [],
   "source": [
    "#Initialisation des données\n",
    "delta = [0.1, 0.]\n",
    "T= 2*10**4 #Nb max d'iterations\n",
    "runs = 10 #number of \n",
    "p = np.array([0.8, 0.9]) #Param des Bernoulli\n",
    "K = p.shape[0] #Nb de bras\n",
    "\n",
    "alpha=2.5"
   ]
  },
  {
   "cell_type": "markdown",
   "metadata": {},
   "source": [
    "## UCB"
   ]
  },
  {
   "cell_type": "code",
   "execution_count": 38,
   "metadata": {},
   "outputs": [
    {
     "name": "stdout",
     "output_type": "stream",
     "text": [
      "run = 0\n",
      "Time for UCB, with T = 20000 , runs = 10 : 4.826173305511475 seconds\n"
     ]
    }
   ],
   "source": [
    "sub_arm_list_ucb = []\n",
    "start_time = time.time()\n",
    "\n",
    "for run in range(runs):\n",
    "    if(run == 0 or run % 1000 == 0):\n",
    "        print(\"run =\", run)\n",
    "    \n",
    "    #ucb Params Iinitialization\n",
    "    N = np.zeros(K) #Nb de fois ou le bras 1 ou 2 a été tiré\n",
    "    rewards_ucb = np.zeros((K, T), dtype=np.int) #Recompense avec chaque bras\n",
    "    action_ucb = np.zeros((K, T), dtype=np.int) #Bras choisi a chaque étape\n",
    "    ucb = np.zeros(K) #ucb pour chaque bras\n",
    "\n",
    "    #On commence en explorant les 2 bras au moins une fois\n",
    "    #t between 0 & K\n",
    "    for t in range(K):\n",
    "        N[t]=1\n",
    "        rewards_ucb[t,t]= np.random.binomial(1, p[t])\n",
    "        action_ucb[t,t]=1\n",
    "\n",
    "    #t >= K\n",
    "    for t in range(K, T):\n",
    "        for k in range(K):\n",
    "            ucb[k] = np.sum(rewards_ucb[k,:t])/N[k]+np.sqrt((alpha*math.log(t))/(2*N[k]))\n",
    "\n",
    "        select = np.argmax(ucb)\n",
    "        N[select] += 1\n",
    "        action_ucb[select,t] = 1\n",
    "        rewards_ucb[select,t] = np.random.binomial(1,p[select])\n",
    "\n",
    "    sub_arm = np.copy(action_ucb[0,])\n",
    "    #print(sub_arm)\n",
    "    sub_arm_list_ucb.append(sub_arm)\n",
    "\n",
    "print(\"Time for UCB, with T =\", T, \", runs =\", runs, \":\", (time.time() - start_time), \"seconds\")\n",
    "#NB: would take 300hrs for\n",
    "#T= 2*10**4\n",
    "#runs = 50*10**3 "
   ]
  },
  {
   "cell_type": "code",
   "execution_count": 39,
   "metadata": {},
   "outputs": [],
   "source": [
    "mean_sub_arm = np.mean(sub_arm_list_ucb, axis=0 ) #Mean number of the suboptimal arm as a function of time\n",
    "sub_arm_draws_T = np.zeros(runs) #number of draws of the suboptimal arm at tim n=5000\n",
    "for i in range(runs):\n",
    "    sub_arm_draws_T[i] = np.sum(sub_arm_list_ucb[i][:5000])"
   ]
  },
  {
   "cell_type": "raw",
   "metadata": {},
   "source": [
    "#Plot Article's figure 1 (left)\n",
    "fig = plt.figure(figsize=(12, 8))\n",
    "ax = fig.add_subplot(1, 1, 1)\n",
    "ax.semilogx(np.cumsum(mean_sub_arm), linestyle='-', label='UCB')\n",
    "ax.grid(True)\n",
    "ax.legend(loc='best')\n",
    "ax.set_title('Mean number of the suboptimal arm as a function of time')\n",
    "plt.xlim( 10**2, 2*10**4 ) \n",
    "plt.show()"
   ]
  },
  {
   "cell_type": "raw",
   "metadata": {},
   "source": [
    "#Plot Article's figure 1 (right)\n",
    "fig=plt.figure(figsize=(12,8))\n",
    "ax = fig.add_subplot(1,1,1)\n",
    "ax.boxplot(sub_arm_draws_T)#,label='UCB')\n",
    "ax.legend(loc='best')\n",
    "ax.set_title('Mean number of the suboptimal arm as a function of time')\n",
    "plt.show()"
   ]
  },
  {
   "cell_type": "markdown",
   "metadata": {},
   "source": [
    "## KL-UCB"
   ]
  },
  {
   "cell_type": "code",
   "execution_count": 45,
   "metadata": {},
   "outputs": [],
   "source": [
    "%%capture\n",
    "# KL-UCB avec 2 bras\n",
    "klucb = kl_ucb_policy.KLUCBPolicy(K, delta)\n",
    "\n",
    "sub_arm_list_klucb = []\n",
    "start_time = time.time()\n",
    "\n",
    "for run in range(runs):\n",
    "    if(run == 0 or run % 1000 == 0):\n",
    "        print(\"run =\", run)\n",
    "        \n",
    "    klucb.reset()\n",
    "    actions_klucb = np.zeros((K, T), dtype=np.int)\n",
    "    rewards_klucb = np.zeros((K, T), dtype=np.int)\n",
    "\n",
    "    for t in range(T):\n",
    "        arm_klucb = klucb.select_next_arm()\n",
    "        #print(\"arm :\", arm)\n",
    "        actions_klucb[arm_klucb,t] = 1\n",
    "        rewards_klucb[arm_klucb,t] = np.random.binomial(1, p[arm_klucb])\n",
    "        klucb.update_state(arm_klucb, rewards_klucb[arm_klucb,t])\n",
    "        \n",
    "    sub_arm = np.copy(actions_klucb[0,])\n",
    "    #print(sub_arm)\n",
    "    sub_arm_list_klucb.append(sub_arm)\n",
    "\n",
    "time_spent = time.time() - start_time"
   ]
  },
  {
   "cell_type": "code",
   "execution_count": 46,
   "metadata": {},
   "outputs": [
    {
     "name": "stdout",
     "output_type": "stream",
     "text": [
      "Time for KL-UCB, with T = 20000 , runs = 10 : 41.10804200172424 seconds\n"
     ]
    }
   ],
   "source": [
    "print(\"Time for KL-UCB, with T =\", T, \", runs =\", runs, \":\", (time_spent), \"seconds\")\n",
    "#NB: would take 300hrs for\n",
    "#T= 2*10**4\n",
    "#runs = 50*10**3 "
   ]
  },
  {
   "cell_type": "code",
   "execution_count": 47,
   "metadata": {},
   "outputs": [],
   "source": [
    "mean_sub_arm_klucb = np.mean(sub_arm_list_klucb, axis=0 ) #Mean number of the suboptimal arm as a function of time\n",
    "sub_arm_draws_T_klucb = np.zeros(runs) #number of draws of the suboptimal arm at tim n=5000\n",
    "for i in range(runs):\n",
    "    sub_arm_draws_T_klucb[i] = np.sum(sub_arm_list_klucb[i][:5000])"
   ]
  },
  {
   "cell_type": "code",
   "execution_count": 48,
   "metadata": {},
   "outputs": [
    {
     "data": {
      "image/png": "[encoded data removed]",
      "text/plain": [
       "<matplotlib.figure.Figure at 0x29c66f51cc0>"
      ]
     },
     "metadata": {},
     "output_type": "display_data"
    }
   ],
   "source": [
    "#Plot Article's figure 1 (left) KL-UCB\n",
    "fig = plt.figure(figsize=(12, 8))\n",
    "ax = fig.add_subplot(1, 1, 1)\n",
    "ax.semilogx(np.cumsum(mean_sub_arm), linestyle='-', label='UCB')\n",
    "ax.semilogx(np.cumsum(mean_sub_arm_klucb), linestyle='-', label='KL-UCB')\n",
    "ax.grid(True)\n",
    "ax.legend(loc='best')\n",
    "ax.set_title('Mean number of the suboptimal arm as a function of time')\n",
    "plt.xlim( 10**2, 2*10**4 ) \n",
    "plt.show()"
   ]
  },
  {
   "cell_type": "code",
   "execution_count": 49,
   "metadata": {},
   "outputs": [
    {
     "name": "stderr",
     "output_type": "stream",
     "text": [
      "No handles with labels found to put in legend.\n"
     ]
    },
    {
     "data": {
      "image/png": "[encoded data removed]",
      "text/plain": [
       "<matplotlib.figure.Figure at 0x29c66f01390>"
      ]
     },
     "metadata": {},
     "output_type": "display_data"
    }
   ],
   "source": [
    "#Plot Article's figure 1 (right)\n",
    "fig=plt.figure(figsize=(12,8))\n",
    "ax = fig.add_subplot(1,1,1)\n",
    "ax.boxplot([sub_arm_draws_T, sub_arm_draws_T_klucb])\n",
    "ax.set_xticklabels(['UCB', 'KL-UCB'])\n",
    "ax.legend(loc='best')\n",
    "ax.set_title('Mean number of the suboptimal arm as a function of time')\n",
    "plt.show()"
   ]
  },
  {
   "cell_type": "raw",
   "metadata": {},
   "source": [
    "#Write data in files\n",
    "#ucb\n",
    "parameters_ucb = {\n",
    "    'sub_arm_list': sub_arm_list_ucb\n",
    "}\n",
    "output_ucb = open('data/ucb_scenario_1.pkl', 'wb')\n",
    "pickle.dump(parameters_ucb, output_ucb)\n",
    "output_ucb.close()\n",
    "\n",
    "#kl-ucb\n",
    "parameters_klucb = {\n",
    "    'sub_arm_list': sub_arm_list_klucb\n",
    "}\n",
    "output_klucb = open('data/kl_ucb_scenario_1.pkl', 'wb')\n",
    "pickle.dump(parameters_klucb, output_klucb)\n",
    "output_klucb.close()"
   ]
  },
  {
   "cell_type": "code",
   "execution_count": 19,
   "metadata": {},
   "outputs": [],
   "source": [
    "#If already something in data file\n",
    "#ucb\n",
    "file_ucb = 'data/ucb_scenario_1.pkl'\n",
    "#read\n",
    "read_ucb = open(file_ucb, 'rb')\n",
    "parameters_ucb = pickle.load(read_ucb)\n",
    "read_ucb.close()\n",
    "#update\n",
    "parameters_ucb['sub_arm_list'] += sub_arm_list_ucb\n",
    "#write\n",
    "write_ucb = open(file_ucb, 'wb')\n",
    "pickle.dump(parameters_ucb, write_ucb)\n",
    "write_ucb.close()"
   ]
  },
  {
   "cell_type": "code",
   "execution_count": null,
   "metadata": {},
   "outputs": [],
   "source": []
  }
 ],
 "metadata": {
  "anaconda-cloud": {},
  "kernelspec": {
   "display_name": "Python 3",
   "language": "python",
   "name": "python3"
  },
  "language_info": {
   "codemirror_mode": {
    "name": "ipython",
    "version": 3
   },
   "file_extension": ".py",
   "mimetype": "text/x-python",
   "name": "python",
   "nbconvert_exporter": "python",
   "pygments_lexer": "ipython3",
   "version": "3.6.4"
  }
 },
 "nbformat": 4,
 "nbformat_minor": 1
}
